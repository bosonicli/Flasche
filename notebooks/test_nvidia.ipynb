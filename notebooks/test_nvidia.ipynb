{
 "cells": [
  {
   "cell_type": "code",
   "execution_count": null,
   "metadata": {},
   "outputs": [],
   "source": [
    "import torch\n",
    "print('CUDA版本:',torch.version.cuda)\n",
    "print('Pytorch版本:',torch.__version__)\n",
    "print('显卡是否可用:','可用' if(torch.cuda.is_available()) else '不可用')\n",
    "print('显卡数量:',torch.cuda.device_count())\n",
    "print('是否支持BF16数字格式:','支持' if (torch.cuda.is_bf16_supported()) else '不支持')\n",
    "print('当前显卡型号:',torch.cuda.get_device_name())\n",
    "print('当前显卡的CUDA算力:',torch.cuda.get_device_capability())\n",
    "print('当前显卡的总显存:',torch.cuda.get_device_properties(0).total_memory/1024/1024/1024,'GB')\n",
    "print('是否支持TensorCore:','支持' if (torch.cuda.get_device_properties(0).major >= 7) else '不支持')\n",
    "print('当前显卡的显存使用率:',torch.cuda.memory_allocated(0)/torch.cuda.get_device_properties(0).total_memory*100,'%')"
   ]
  }
 ],
 "metadata": {
  "kernelspec": {
   "display_name": "Python 3",
   "language": "python",
   "name": "python3"
  },
  "language_info": {
   "codemirror_mode": {
    "name": "ipython",
    "version": 3
   },
   "file_extension": ".py",
   "mimetype": "text/x-python",
   "name": "python",
   "nbconvert_exporter": "python",
   "pygments_lexer": "ipython3",
   "version": "3.10.10"
  },
  "orig_nbformat": 4
 },
 "nbformat": 4,
 "nbformat_minor": 2
}
